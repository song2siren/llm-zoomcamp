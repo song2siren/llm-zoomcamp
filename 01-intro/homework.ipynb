{
 "cells": [
  {
   "cell_type": "code",
   "execution_count": 1,
   "id": "a82e8901-df28-475f-9520-7b17ca19bf74",
   "metadata": {},
   "outputs": [],
   "source": [
    "import openai"
   ]
  },
  {
   "cell_type": "code",
   "execution_count": 2,
   "id": "d04eddb2-7467-400a-90db-780d0cea8e9f",
   "metadata": {},
   "outputs": [],
   "source": [
    "from openai import OpenAI"
   ]
  },
  {
   "cell_type": "code",
   "execution_count": 3,
   "id": "44d42e66-3c36-4fc9-9429-ef14564e06ad",
   "metadata": {},
   "outputs": [],
   "source": [
    "client = OpenAI()"
   ]
  },
  {
   "cell_type": "code",
   "execution_count": 4,
   "id": "af584f62-0187-4785-951d-cf31f7374d88",
   "metadata": {},
   "outputs": [],
   "source": [
    "import os"
   ]
  },
  {
   "cell_type": "code",
   "execution_count": 6,
   "id": "b0dc246f-9056-4ebd-8c7d-10720bcc8749",
   "metadata": {},
   "outputs": [],
   "source": [
    "response = client.chat.completions.create(\n",
    "    model='gpt-4o',\n",
    "    messages=[{\"role\": \"user\", \"content\": \"is it too late to join the course?\"}]\n",
    ")"
   ]
  },
  {
   "cell_type": "code",
   "execution_count": 8,
   "id": "b2a1d800-4c75-4c4b-b88d-ce3516432524",
   "metadata": {},
   "outputs": [
    {
     "data": {
      "text/plain": [
       "ChatCompletionMessage(content=\"I'm sorry, but I don't have specific information on which course you're referring to. To determine if it's too late to join a course, you should consider the following:\\n\\n1. **Enrollment Deadline:** Check if the course enrollment period is still open. \\n\\n2. **Course Start Date:** If the course has already started, find out if you can still register late.\\n\\n3. **Late Registration Policy:** Some courses might allow late registration but may have penalties or special requirements.\\n\\n4. **Availability of Course Materials:** Check if any materials or lectures you’ve missed can be accessed online.\\n\\n5. **Instructor or Administration Contact:** Reach out to the course instructor or administration for guidance on late enrollment.\\n\\nBy gathering this information, you can make an informed decision about whether it's possible and practical to join the course at this time.\", refusal=None, role='assistant', annotations=[], audio=None, function_call=None, tool_calls=None)"
      ]
     },
     "execution_count": 8,
     "metadata": {},
     "output_type": "execute_result"
    }
   ],
   "source": [
    "response.choices[0].message"
   ]
  },
  {
   "cell_type": "code",
   "execution_count": null,
   "id": "948a6e34-5e76-4007-8196-5d42dd5ad711",
   "metadata": {},
   "outputs": [],
   "source": []
  }
 ],
 "metadata": {
  "kernelspec": {
   "display_name": "Python 3 (ipykernel)",
   "language": "python",
   "name": "python3"
  },
  "language_info": {
   "codemirror_mode": {
    "name": "ipython",
    "version": 3
   },
   "file_extension": ".py",
   "mimetype": "text/x-python",
   "name": "python",
   "nbconvert_exporter": "python",
   "pygments_lexer": "ipython3",
   "version": "3.12.1"
  }
 },
 "nbformat": 4,
 "nbformat_minor": 5
}
